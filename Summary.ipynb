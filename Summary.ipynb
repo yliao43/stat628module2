{
 "cells": [
  {
   "cell_type": "markdown",
   "metadata": {},
   "source": [
    "# Tuesday Group 6"
   ]
  },
  {
   "cell_type": "markdown",
   "metadata": {},
   "source": [
    "# 1. Overall Conclusions"
   ]
  },
  {
   "cell_type": "markdown",
   "metadata": {},
   "source": [
    "We would propose desicions to pizza restaurants owners on several aspects obtained by several models."
   ]
  },
  {
   "cell_type": "markdown",
   "metadata": {},
   "source": [
    "Firstly, we suggested owners to keep quiet circumstance, open for dinner, provide alcohol, free Wifi, bike parking place and parking lot. These 6 desicion would significantly increase the ratings, which was shown by applying the random forest model to the attrbutes data."
   ]
  },
  {
   "cell_type": "markdown",
   "metadata": {},
   "source": [
    "Secondly, we constructed a series of term frequency regression models to propose different decisions for each restaurants. We took three big pizza chains as the examples and analyzed the characteristic of those chains to propse decisions, which was shown in part 2."
   ]
  },
  {
   "cell_type": "markdown",
   "metadata": {},
   "source": [
    "Thirdly, we applied LDA and LASSO models to find what kind of word or words would contribute bad reviews and low ratings. In the LDA model part, I splitted review dataset into three parts by ratings, then constructed LDA model. Finally, calculated coherence to get the optimal number of topics."
   ]
  },
  {
   "cell_type": "markdown",
   "metadata": {},
   "source": [
    "Then, to investigate low, medium and highly rated Pizza restaurants, splitting them by average ratings. Then applied LASSO to extract keywords based on selected topics. Especially when compared the low rated with the high rated, we can summarize the reason why they behaved well or badly."
   ]
  },
  {
   "cell_type": "markdown",
   "metadata": {},
   "source": [
    "# 2. Statistical Models"
   ]
  },
  {
   "cell_type": "markdown",
   "metadata": {},
   "source": [
    "Before start, we chose the restaurants that we would analyze. We selected the restaurants with \"Pizza\" in the \"Categories\". Then we removed the restaurants without \"Attribute\" data, since \"Attribute\" was the most valuable data in the business_train.json file. We combine the attributes data and reviews into one table. In the end we had 5222 restaurants as the observations of our random forest model."
   ]
  },
  {
   "cell_type": "markdown",
   "metadata": {},
   "source": [
    "### 1. Random Forest (Used to Analyze attributes data)"
   ]
  },
  {
   "cell_type": "markdown",
   "metadata": {},
   "source": [
    "Before dealing with the reviews data, we considered to extract information from the business_train.json file. "
   ]
  },
  {
   "cell_type": "markdown",
   "metadata": {},
   "source": [
    "We chose and arranged the variables that might be valuable for the analysis. We converted the dictionary to the data frame for the convenience of analyzing using R language and constructing statistical models. We removed the variables 'hours', 'categories', 'latitude', 'longitude', 'postal_code', 'business_id', 'name', 'city', 'HairSpecializesIn' and 'State', since we couldn't provide any suggestions to business owners based on imformation given by these variables. As well, we removed the variables with more than 70% NAs, since the large percentage of NAs made those variables contain little information. After these three steps, we had 36 independent variables for our random forest model."
   ]
  },
  {
   "cell_type": "markdown",
   "metadata": {},
   "source": [
    "The dependent variable of our model was the average stars of each Pizza restaurants, since each restaurants only had one set of independent variables."
   ]
  },
  {
   "cell_type": "markdown",
   "metadata": {},
   "source": [
    "After data cleaning, we started to construct the random forest model. There were still lots of NAs in the cleaned data, so we thought the imputation was not clever as the imputation may have great effect to the shape of data. The proper method to deal with these NAs was to construct a random forest model, because the random forest model could efficiently extract the information of NAs. We hadn't been imformed any information from the data, so we decided to take the default number of trees to grow, which was 500. Then we constructed random forest model in which Y was average stars and X was the matrix of all 36 independent variables."
   ]
  },
  {
   "cell_type": "markdown",
   "metadata": {},
   "source": [
    "<img src=\"figure/Ratings.png\" width=\"250\">"
   ]
  },
  {
   "cell_type": "markdown",
   "metadata": {},
   "source": [
    "From the density plot of the average stars, the 4-star was the most and the 3-star was following."
   ]
  },
  {
   "cell_type": "markdown",
   "metadata": {},
   "source": [
    "<img src=\"figure/Importance.png\" width=\"250\">"
   ]
  },
  {
   "cell_type": "markdown",
   "metadata": {},
   "source": [
    "This plot was the importance of each variables calculated by the random forest model. The importance was similar to the significance in the linear regression model. According to this plot, there were 6 variables with importance greater than 15, so we considered these 6 variables as the most important things for the pizza restaurants. These 6 variables were 'NoiseLevel', 'Alcohol', 'GoodForMeal_dinner', 'WiFi', 'BikeParking' and 'Parking_lot'."
   ]
  },
  {
   "cell_type": "markdown",
   "metadata": {},
   "source": [
    "<tr>\n",
    "    <td> <img src=\"figure/Noise.png\" alt=\"Drawing\" style=\"width: 250px;\"/> </td>\n",
    "    <td> <img src=\"figure/Alcohol.png\" alt=\"Drawing\" style=\"width: 250px;\"/> </td>\n",
    "    <td> <img src=\"figure/Dinner.png\" alt=\"Drawing\" style=\"width: 250px;\"/> </td>\n",
    "</tr>"
   ]
  },
  {
   "cell_type": "markdown",
   "metadata": {},
   "source": [
    "<tr>\n",
    "    <td> <img src=\"figure/Wifi.png\" alt=\"Drawing\" style=\"width: 250px;\"/> </td>\n",
    "    <td> <img src=\"figure/BikeParking.png\" alt=\"Drawing\" style=\"width: 250px;\"/> </td>\n",
    "    <td> <img src=\"figure/ParkingLot.png\" alt=\"Drawing\" style=\"width: 250px;\"/> </td>\n",
    "</tr>"
   ]
  },
  {
   "cell_type": "markdown",
   "metadata": {},
   "source": [
    "For example, the most important variable was the noise level. From the box plot, it was clearly that the loud or very loud restaurants had significantly lower average stars. From the other 5 plots, all these 6 plots showed significantly effect to the averate stars."
   ]
  },
  {
   "cell_type": "markdown",
   "metadata": {},
   "source": [
    "### 2. Term Frequency Regression Model"
   ]
  },
  {
   "cell_type": "markdown",
   "metadata": {},
   "source": [
    "For each restaurants, we constructed a term frequency regression model to analyze its problems."
   ]
  },
  {
   "cell_type": "markdown",
   "metadata": {},
   "source": [
    "The term frequency was the the numbers of each words appearing in each reviews. For each restaurants, we calculated term frequency and constructed a matrix whose rows were each reviews and columns were each words. Then we constructed the linear regression model between each stars and the term frequency matrix. The words with greater absolute beta coefficients could be considered as the main suggestions raised by customers for the restaurants."
   ]
  },
  {
   "cell_type": "markdown",
   "metadata": {},
   "source": [
    "We pick three famous pizza chains as the example: Pizza Hut, Domino's Pizza and Papa John's Pizza. From the plots shown below, these three chains all had lots of 1-star and had similar distribution."
   ]
  },
  {
   "cell_type": "markdown",
   "metadata": {},
   "source": [
    "<tr>\n",
    "    <td> <img src=\"figure/Pizza_Hut_distribution.png\" alt=\"Drawing\" style=\"width: 250px;\"/> </td>\n",
    "    <td> <img src=\"figure/Domino_distribution.png\" alt=\"Drawing\" style=\"width: 250px;\"/> </td>\n",
    "    <td> <img src=\"figure/Papa_John_distribution.png\" alt=\"Drawing\" style=\"width: 250px;\"/> </td>\n",
    "</tr>"
   ]
  },
  {
   "cell_type": "markdown",
   "metadata": {},
   "source": [
    "By preforming term frequency analysis, we obtained 20 words with lowest beta (negative beta) of each chains. Excluding the meaningless words and general words like \"away\" and \"horrible\", we found the charateristics of each chains."
   ]
  },
  {
   "cell_type": "markdown",
   "metadata": {},
   "source": [
    "The special words of Pizza Hut were \"undercooked\", \"raw\" and \"looked\", which showed that the main problems of Pizza Hut were not cooking well and terrible appearence. The special words of Domino's Pizza were \"dry\" and \"soggy\", which meant the Domino's Pizza always couldn't control the moisture of the pizza well. The special words of Papa John's Pizza were \"lost\", \"hour\" and \"money\", which showed that the main problems of Papa John's Pizza were not flavor and taste, but the lost problem, too long waiting time and expensive price."
   ]
  },
  {
   "cell_type": "markdown",
   "metadata": {},
   "source": [
    "### 3. LDA Model"
   ]
  },
  {
   "cell_type": "markdown",
   "metadata": {},
   "source": [
    "First of all, we splitted the whole review dataset into three parts, first part was regarded as low rated reviews, in which reviews' raings under 3(exclusive) were chosen, the second part was regarded medium rated reviews, in which reviews' rating within (3,4) were chosen, while the third part was regarded a group of high rated reviews, in which reviews' rating happened to be 5."
   ]
  },
  {
   "cell_type": "markdown",
   "metadata": {},
   "source": [
    "Then, calculated DTM (document-term-matrix), which was used to transmit into LDA model. Set Number of topics from 5 to 10, calculate Coherence and Perplexity respectively."
   ]
  },
  {
   "cell_type": "markdown",
   "metadata": {},
   "source": [
    "Figures from left to right: low-rated review, medium-rated review, high-rated-review"
   ]
  },
  {
   "cell_type": "markdown",
   "metadata": {},
   "source": [
    "<tr>\n",
    "    <td> <img src=\"figure/coh_per_low.png\" alt=\"Drawing\" style=\"width: 250px;\"/> </td>\n",
    "    <td> <img src=\"figure/coh_per_medium.png\" alt=\"Drawing\" style=\"width: 250px;\"/> </td>\n",
    "    <td> <img src=\"figure/coh_per_high.png\" alt=\"Drawing\" style=\"width: 250px;\"/> </td>\n",
    "</tr>"
   ]
  },
  {
   "cell_type": "markdown",
   "metadata": {},
   "source": [
    "Perplexity were quite close to each other,hard to get useful information from them. However, coherence was defined as the average of the pairwise word-similarity scores of all the words in the topic. It meaned that the higher the Coherence was, the better model we got. Hence, we got optimal numbers of topics were 10,7,7."
   ]
  },
  {
   "cell_type": "markdown",
   "metadata": {},
   "source": [
    "below were figures about word count and importance of topic keywords."
   ]
  },
  {
   "cell_type": "markdown",
   "metadata": {},
   "source": [
    "low-rated:"
   ]
  },
  {
   "cell_type": "markdown",
   "metadata": {},
   "source": [
    "<img src=\"figure/word_low.png\" alt=\"Drawing\" style=\"width: 800px;\"/> "
   ]
  },
  {
   "cell_type": "markdown",
   "metadata": {},
   "source": [
    "Similar with the low-rated, the medium-rated and high-rated plot are:"
   ]
  },
  {
   "cell_type": "markdown",
   "metadata": {},
   "source": [
    "<tr>\n",
    "    <td> <img src=\"figure/word_medium.png\" alt=\"Drawing\" style=\"width: 300px;\"/> </td>\n",
    "    <td> <img src=\"figure/word_high.png\" alt=\"Drawing\" style=\"width: 300px;\"/> </td>\n",
    "</tr>"
   ]
  },
  {
   "cell_type": "markdown",
   "metadata": {},
   "source": [
    "From figures above, we can see the LDA model was better than it was last time.\n",
    "Service and related words were better classified in same group, as well as sanitation, environment and price. And we could find out that high rated reviews gave more positive topics than other two review dataset.\n"
   ]
  },
  {
   "cell_type": "markdown",
   "metadata": {},
   "source": [
    "### 4.LASSO"
   ]
  },
  {
   "cell_type": "markdown",
   "metadata": {},
   "source": [
    "In this part, I take another strategy. split Reveiw dataset by identifying average ratings of each business owner. They are disappoting restaurants(avg_rating < 25% quantile), acceptable restaurants(avg_raitngs between 25% and 75% quantile) and reputable restaurants(avg_ratings > 75% quantile)"
   ]
  },
  {
   "cell_type": "markdown",
   "metadata": {},
   "source": [
    "Then, add a new column named recommend, which was equal to 1 if ratings in review are 4 or 5, and others was 0. Then build LASSO model"
   ]
  },
  {
   "cell_type": "markdown",
   "metadata": {},
   "source": [
    "Select keywords: 'place', 'service', 'food', 'taste', 'clean','spaghetti' and 'pepperoni'\n",
    "Then extrated related reivews from each separated review dataset.\n",
    "Compared results among these three kinds of business, gave precision marketing towards themselves."
   ]
  },
  {
   "cell_type": "markdown",
   "metadata": {},
   "source": [
    "keyword 1: \"place\" ---------------disappoiting restaurant V.S reputable restaurants"
   ]
  },
  {
   "cell_type": "markdown",
   "metadata": {},
   "source": [
    "<tr>\n",
    "    <td> <img src=\"figure/place_low.png\" alt=\"Drawing\" style=\"width: 500px;\"/> </td>\n",
    "    <td> <img src=\"figure/place_high.png\" alt=\"Drawing\" style=\"width: 500px;\"/> </td>\n",
    "</tr>"
   ]
  },
  {
   "cell_type": "markdown",
   "metadata": {},
   "source": [
    "Disappoiting restaurants were ('dirty', 'disgust'...) while reputable ones were ('amaze','not_wait','wonderful'...)"
   ]
  },
  {
   "cell_type": "markdown",
   "metadata": {},
   "source": [
    "keyword 2: 'service' -----------disappoiting restaurant V.S reputable restaurants"
   ]
  },
  {
   "cell_type": "markdown",
   "metadata": {},
   "source": [
    "<tr>\n",
    "    <td> <img src=\"figure/service_low.png\" alt=\"Drawing\" style=\"width: 500px;\"/> </td>\n",
    "    <td> <img src=\"figure/service_high.png\" alt=\"Drawing\" style=\"width: 500px;\"/> </td>\n",
    "</tr>"
   ]
  },
  {
   "cell_type": "markdown",
   "metadata": {},
   "source": [
    "left:('bad_service','not_good','rude','service_slow'...) while right: ('fast','glad','awesome')"
   ]
  },
  {
   "cell_type": "markdown",
   "metadata": {},
   "source": [
    "keyword 3: 'food' -----------disappoiting restaurant V.S reputable restaurants"
   ]
  },
  {
   "cell_type": "markdown",
   "metadata": {},
   "source": [
    "<tr>\n",
    "    <td> <img src=\"figure/food_low.png\" alt=\"Drawing\" style=\"width: 500px;\"/> </td>\n",
    "    <td> <img src=\"figure/food_high.png\" alt=\"Drawing\" style=\"width: 500px;\"/> </td>\n",
    "</tr>"
   ]
  },
  {
   "cell_type": "markdown",
   "metadata": {},
   "source": [
    "left: ('bland', 'mediocre','not_good','burn') while right:('delicious','yummy')"
   ]
  },
  {
   "cell_type": "markdown",
   "metadata": {},
   "source": [
    "keyword 4: 'taste' -----------disappoiting restaurant V.S reputable restaurants"
   ]
  },
  {
   "cell_type": "markdown",
   "metadata": {},
   "source": [
    "<tr>\n",
    "    <td> <img src=\"figure/taste_low.png\" alt=\"Drawing\" style=\"width: 500px;\"/> </td>\n",
    "    <td> <img src=\"figure/taste_high.png\" alt=\"Drawing\" style=\"width: 500px;\"/> </td>\n",
    "</tr>"
   ]
  },
  {
   "cell_type": "markdown",
   "metadata": {},
   "source": [
    "left: ('worst','bland','terrible') while right: ('crispy','delicious','unique')"
   ]
  },
  {
   "cell_type": "markdown",
   "metadata": {},
   "source": [
    "keyword 5 'spagheti' -----------disappoiting restaurant V.S reputable restaurants"
   ]
  },
  {
   "cell_type": "markdown",
   "metadata": {},
   "source": [
    "<tr>\n",
    "    <td> <img src=\"figure/spaghetti_low.png\" alt=\"Drawing\" style=\"width: 500px;\"/> </td>\n",
    "    <td> <img src=\"figure/spaghetti_high.png\" alt=\"Drawing\" style=\"width: 500px;\"/> </td>\n",
    "</tr>"
   ]
  },
  {
   "cell_type": "markdown",
   "metadata": {},
   "source": [
    "Interesting finding: disappoiting restaurants seldomly sell spaghetti while right:('crave','onion','tasty','wonderful')"
   ]
  },
  {
   "cell_type": "markdown",
   "metadata": {},
   "source": [
    "keyword 6 'pepperoni': -----------disappoiting restaurant V.S reputable restaurants"
   ]
  },
  {
   "cell_type": "markdown",
   "metadata": {},
   "source": [
    "<tr>\n",
    "    <td> <img src=\"figure/pepperoni_low.png\" alt=\"Drawing\" style=\"width: 500px;\"/> </td>\n",
    "    <td> <img src=\"figure/pepperoni_high.png\" alt=\"Drawing\" style=\"width: 500px;\"/> </td>\n",
    "</tr>"
   ]
  },
  {
   "cell_type": "markdown",
   "metadata": {},
   "source": [
    "keyword 6 'clean' -----------disappoiting restaurant V.S reputable restaurants"
   ]
  },
  {
   "cell_type": "markdown",
   "metadata": {},
   "source": [
    "<tr>\n",
    "    <td> <img src=\"figure/clean_low.png\" alt=\"Drawing\" style=\"width: 500px;\"/> </td>\n",
    "    <td> <img src=\"figure/clean_high.png\" alt=\"Drawing\" style=\"width: 500px;\"/> </td>\n",
    "</tr>"
   ]
  },
  {
   "cell_type": "markdown",
   "metadata": {},
   "source": [
    "left: ('dirty','door','dry','disgust') while right: ('comfortable','space')"
   ]
  },
  {
   "cell_type": "markdown",
   "metadata": {},
   "source": [
    "The figures above only show a little information. Only 10 words were chosen to display. If we study more into the results, we can help this disappoiting restaurants improve with detailed information."
   ]
  },
  {
   "cell_type": "markdown",
   "metadata": {},
   "source": [
    "### 5. Joint Sentiment-Topic Model"
   ]
  },
  {
   "cell_type": "markdown",
   "metadata": {},
   "source": [
    "For Goal(2), consider LDA model as a basic probabilistic graphical model for our information extraction, add sentiment part into the graphical representation of LDA, say Joint Sentiment-Topic Model(JST) [1]. The graphical representation of JST is shown below on the right."
   ]
  },
  {
   "cell_type": "markdown",
   "metadata": {},
   "source": [
    "<tr>\n",
    "    <td> <img src=\"figure/LDA.png\" alt=\"Drawing\" style=\"width: 370px;\"/> </td>\n",
    "    <td> <img src=\"figure/JST.png\" alt=\"Drawing\" style=\"width: 370px;\"/> </td>\n",
    "</tr>"
   ]
  },
  {
   "cell_type": "markdown",
   "metadata": {},
   "source": [
    "S represents sentiment labels, which is set as 2( positive and negative) as default. T represents topics, and D represents documents. The major difference between these two models are that JST assumes a word distribution depends on not only the topic but also the sentiment label. Meanwhile, the topic distribution depends on the sentiment label as well. To explain this, take pizza restaurant reviews as example, when it comes to negative review, it might mention the slow service more often, while in positive reviews, people comment more on the food itself. Set parameter $\\alpha$ as $50/number\\_of\\_topics$, $\\beta$ and $\\gamma$ as 0.01. Due to the uni-category property of our data, we set the number of topics as 5. In order to use more information of our data, say they're all about pizza restaurants, introduce ratings as prior of the sentiment distribution. "
   ]
  },
  {
   "cell_type": "markdown",
   "metadata": {},
   "source": [
    "Define positive score as: $$positive\\_score = \\cfrac{2*w_{i}frequency\\_in\\_positive\\_label\\_documents}{w_{i}frequency\\_in\\_all\\_documents}-1$$"
   ]
  },
  {
   "cell_type": "markdown",
   "metadata": {},
   "source": [
    "Notice the range of positive_score is $[-1,1]$, assign score below -0.1 as negative, while score beyond 0.1 as positive. The rest of words’ sentiments are randomly assigned. The positive label documents means processed reviews with 4 or 5 stars."
   ]
  },
  {
   "cell_type": "markdown",
   "metadata": {},
   "source": [
    "Since both LDA and JST are generative probabilistic models, only remove words that rarely appears to reduce computing workload, but leave frequent words in our cleaned data set. The same word is probably in different topics which may refers to different meaning and aspects. To get the distribution of parameters, collapsed Gibbs Sampling is used here. Sparsity of the document-term matrix is another problem, which causes kernel died due to large memory consumption. To handle this, avoid the use of large sparse array and save informative data when desired."
   ]
  },
  {
   "cell_type": "markdown",
   "metadata": {},
   "source": [
    "# 3. Predictions"
   ]
  },
  {
   "cell_type": "markdown",
   "metadata": {},
   "source": [
    "The prediction used the term frequency linear regression model and used 1 million observations sampled from the training data. The final prediction result in Kaggle was 0.89."
   ]
  },
  {
   "cell_type": "markdown",
   "metadata": {},
   "source": [
    "# 4. Reference"
   ]
  },
  {
   "cell_type": "markdown",
   "metadata": {},
   "source": [
    "[1] C. Lin and Y. He, “Joint sentiment/topic model for sentiment analysis,” in Proceedings of the 18th ACM Conference on Information and Knowledge Management, CIKM ’09, (New York, NY, USA), pp. 375–384, ACM, 2009."
   ]
  },
  {
   "cell_type": "markdown",
   "metadata": {},
   "source": [
    "# 5. Contributions"
   ]
  },
  {
   "cell_type": "markdown",
   "metadata": {},
   "source": [
    "### Tianqi Li:\n",
    "Did 3 parts: attributes data analysis, term frequency model and the Kaggle prediction. The codes, figures, tables, presentation and jyputer notebook summary of these 3 parts were the contributions of Tianqi Li."
   ]
  },
  {
   "cell_type": "markdown",
   "metadata": {},
   "source": [
    "### Yejia Liao:\n",
    "Did 2 parts: LDA model and LASSO. The codes, figures, tables, presentation and jyputer notebook summary of these 2 parts were the contributions of Yejia Liao."
   ]
  },
  {
   "cell_type": "markdown",
   "metadata": {},
   "source": [
    "### Yaxin Deng:\n",
    "Did 2 parts: Cleaned reviews data for LDA and JST, implemented revised JST based on review ratings in Python. The codes, figures, tables, presentation and jyputer notebook summary of these 2 parts were the contributions of Yaxin Deng."
   ]
  }
 ],
 "metadata": {
  "kernelspec": {
   "display_name": "Python 3",
   "language": "python",
   "name": "python3"
  },
  "language_info": {
   "codemirror_mode": {
    "name": "ipython",
    "version": 3
   },
   "file_extension": ".py",
   "mimetype": "text/x-python",
   "name": "python",
   "nbconvert_exporter": "python",
   "pygments_lexer": "ipython3",
   "version": "3.6.8"
  }
 },
 "nbformat": 4,
 "nbformat_minor": 2
}
