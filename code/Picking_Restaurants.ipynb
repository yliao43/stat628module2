{
 "cells": [
  {
   "cell_type": "code",
   "execution_count": 1,
   "metadata": {},
   "outputs": [],
   "source": [
    "#---Importing packages\n",
    "\n",
    "import json\n",
    "import pandas as pd"
   ]
  },
  {
   "cell_type": "code",
   "execution_count": 2,
   "metadata": {},
   "outputs": [
    {
     "data": {
      "text/plain": [
       "<function TextIOWrapper.close()>"
      ]
     },
     "execution_count": 2,
     "metadata": {},
     "output_type": "execute_result"
    }
   ],
   "source": [
    "#---Reading business data\n",
    "\n",
    "with open('/Users/tete/628data/business_train.json', 'r') as f:\n",
    "    bus_train = f.readlines()\n",
    "    for i in range(len(bus_train)):\n",
    "        bus_train[i] = json.loads(bus_train[i])\n",
    "f.close"
   ]
  },
  {
   "cell_type": "code",
   "execution_count": 3,
   "metadata": {},
   "outputs": [
    {
     "name": "stdout",
     "output_type": "stream",
     "text": [
      "47907\n"
     ]
    }
   ],
   "source": [
    "#---Picking restaurants observation\n",
    "\n",
    "for x in bus_train[:]:\n",
    "    if x['categories'] and 'Restaurant' not in x['categories']:\n",
    "        bus_train.remove(x)\n",
    "print(len(bus_train))"
   ]
  },
  {
   "cell_type": "code",
   "execution_count": 4,
   "metadata": {},
   "outputs": [
    {
     "name": "stdout",
     "output_type": "stream",
     "text": [
      "45764\n"
     ]
    }
   ],
   "source": [
    "#---Removing observations without attributes\n",
    "\n",
    "for x in bus_train[:]:\n",
    "    if not x['attributes']:\n",
    "        bus_train.remove(x)\n",
    "print(len(bus_train))"
   ]
  },
  {
   "cell_type": "code",
   "execution_count": 5,
   "metadata": {},
   "outputs": [],
   "source": [
    "#---Writing restaurants data into a new .json file\n",
    "\n",
    "bus_json = []\n",
    "for i in range(len(bus_train)):\n",
    "        bus_json.append(json.dumps(bus_train[i]))\n",
    "for i in range(len(bus_json)):\n",
    "    open('/Users/tete/628data/bus_food.json', 'a').write(bus_json[i])\n",
    "    open('/Users/tete/628data/bus_food.json', 'a').write('\\n')"
   ]
  }
 ],
 "metadata": {
  "kernelspec": {
   "display_name": "Python 3",
   "language": "python",
   "name": "python3"
  },
  "language_info": {
   "codemirror_mode": {
    "name": "ipython",
    "version": 3
   },
   "file_extension": ".py",
   "mimetype": "text/x-python",
   "name": "python",
   "nbconvert_exporter": "python",
   "pygments_lexer": "ipython3",
   "version": "3.6.8"
  }
 },
 "nbformat": 4,
 "nbformat_minor": 2
}
