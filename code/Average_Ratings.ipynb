{
 "cells": [
  {
   "cell_type": "code",
   "execution_count": 1,
   "metadata": {},
   "outputs": [],
   "source": [
    "#---Importing packages\n",
    "\n",
    "import json\n",
    "import pandas as pd\n",
    "import numpy as np"
   ]
  },
  {
   "cell_type": "code",
   "execution_count": 2,
   "metadata": {},
   "outputs": [
    {
     "data": {
      "text/plain": [
       "<function TextIOWrapper.close()>"
      ]
     },
     "execution_count": 2,
     "metadata": {},
     "output_type": "execute_result"
    }
   ],
   "source": [
    "#---Reading restaurants data\n",
    "\n",
    "with open('/Users/tete/628data/bus_pizza.json', 'r') as f:\n",
    "    bus_train = f.readlines()\n",
    "    for i in range(len(bus_train)):\n",
    "        bus_train[i] = json.loads(bus_train[i])\n",
    "f.close"
   ]
  },
  {
   "cell_type": "code",
   "execution_count": 3,
   "metadata": {},
   "outputs": [
    {
     "name": "stdout",
     "output_type": "stream",
     "text": [
      "37\n"
     ]
    }
   ],
   "source": [
    "#---Accounting number of kinds of attributes\n",
    "\n",
    "attribute = set()\n",
    "for i in range(len(bus_train)):\n",
    "    if bus_train[i]['attributes']:\n",
    "        attribute = set(list(bus_train[i]['attributes'])) | attribute\n",
    "print(len(attribute))"
   ]
  },
  {
   "cell_type": "code",
   "execution_count": 4,
   "metadata": {},
   "outputs": [],
   "source": [
    "#---Transforming all attributes\n",
    "\n",
    "for i in range(len(bus_train)):\n",
    "    for key in attribute:\n",
    "        bus_train[i][key] = 'NA'\n",
    "        if key in list(bus_train[i]['attributes']):\n",
    "            bus_train[i][key] = bus_train[i]['attributes'][key]\n",
    "            if bus_train[i][key] == 'None':\n",
    "                bus_train[i][key] = 'NA'\n",
    "\n",
    "for i in range(len(bus_train)):\n",
    "    bus_train[i].pop('attributes')"
   ]
  },
  {
   "cell_type": "code",
   "execution_count": 5,
   "metadata": {},
   "outputs": [],
   "source": [
    "#---Transforming BusinessParking\n",
    "    \n",
    "for i in range(len(bus_train)):\n",
    "    if bus_train[i]['BusinessParking'] != 'NA':\n",
    "        bus_train[i]['BusinessParking'] = bus_train[i]['BusinessParking'].replace('\\'', '\\\"')\n",
    "        bus_train[i]['BusinessParking'] = bus_train[i]['BusinessParking'].replace('False', '\\\"F\\\"')\n",
    "        bus_train[i]['BusinessParking'] = bus_train[i]['BusinessParking'].replace('True', '\\\"T\\\"') \n",
    "        bus_train[i]['BusinessParking'] = json.loads(bus_train[i]['BusinessParking'])\n",
    "        \n",
    "for i in range(len(bus_train)):\n",
    "    for key in ['garage', 'street', 'validated', 'lot', 'valet']:\n",
    "        bus_train[i]['Parking_'+key] = 'NA'\n",
    "        if bus_train[i]['BusinessParking'] != 'NA':\n",
    "            if key in list(bus_train[i]['BusinessParking']):\n",
    "                bus_train[i]['Parking_'+key] = bus_train[i]['BusinessParking'][key]\n",
    "                    \n",
    "for i in range(len(bus_train)):\n",
    "    bus_train[i].pop('BusinessParking')"
   ]
  },
  {
   "cell_type": "code",
   "execution_count": 6,
   "metadata": {},
   "outputs": [],
   "source": [
    "#---Transforming Ambience\n",
    "\n",
    "for i in range(len(bus_train)):\n",
    "    if bus_train[i]['Ambience'] != 'NA':\n",
    "        bus_train[i]['Ambience'] = bus_train[i]['Ambience'].replace('\\'', '\\\"')\n",
    "        bus_train[i]['Ambience'] = bus_train[i]['Ambience'].replace('False', '\\\"F\\\"')\n",
    "        bus_train[i]['Ambience'] = bus_train[i]['Ambience'].replace('True', '\\\"T\\\"') \n",
    "        bus_train[i]['Ambience'] = json.loads(bus_train[i]['Ambience'])\n",
    "        \n",
    "for i in range(len(bus_train)):\n",
    "    for key in ['romantic', 'intimate', 'touristy', 'hipster', 'divey', 'classy', 'trendy', 'upscale', 'casual']:\n",
    "        bus_train[i]['Ambience_'+key] = 'NA'\n",
    "        if bus_train[i]['Ambience'] != 'NA':\n",
    "            if key in list(bus_train[i]['Ambience']):\n",
    "                bus_train[i]['Ambience_'+key] = bus_train[i]['Ambience'][key]\n",
    "                    \n",
    "for i in range(len(bus_train)):\n",
    "    bus_train[i].pop('Ambience')"
   ]
  },
  {
   "cell_type": "code",
   "execution_count": 7,
   "metadata": {},
   "outputs": [],
   "source": [
    "#---Transforming GoodForMeal\n",
    "    \n",
    "for i in range(len(bus_train)):\n",
    "    if bus_train[i]['GoodForMeal'] != 'NA':\n",
    "        bus_train[i]['GoodForMeal'] = bus_train[i]['GoodForMeal'].replace('\\'', '\\\"')\n",
    "        bus_train[i]['GoodForMeal'] = bus_train[i]['GoodForMeal'].replace('False', '\\\"F\\\"')\n",
    "        bus_train[i]['GoodForMeal'] = bus_train[i]['GoodForMeal'].replace('True', '\\\"T\\\"') \n",
    "        bus_train[i]['GoodForMeal'] = json.loads(bus_train[i]['GoodForMeal'])\n",
    "        \n",
    "for i in range(len(bus_train)):\n",
    "    for key in ['dessert', 'latenight', 'lunch', 'dinner', 'brunch', 'breakfast']:\n",
    "        bus_train[i]['GoodForMeal_'+key] = 'NA'\n",
    "        if bus_train[i]['GoodForMeal'] != 'NA':\n",
    "            if key in list(bus_train[i]['GoodForMeal']):\n",
    "                bus_train[i]['GoodForMeal_'+key] = bus_train[i]['GoodForMeal'][key]\n",
    "                    \n",
    "for i in range(len(bus_train)):\n",
    "    bus_train[i].pop('GoodForMeal')"
   ]
  },
  {
   "cell_type": "code",
   "execution_count": 8,
   "metadata": {},
   "outputs": [],
   "source": [
    "#---Testing whether their are other variables to be transformed\n",
    "\n",
    "for i in range(len(bus_train)):\n",
    "    for key in attribute:\n",
    "        if key not in ['BusinessParking', 'Ambience', 'GoodForMeal']:\n",
    "            if bus_train[i][key][0] == '\\{':\n",
    "                print(key)"
   ]
  },
  {
   "cell_type": "code",
   "execution_count": 9,
   "metadata": {},
   "outputs": [
    {
     "data": {
      "text/plain": [
       "<function TextIOWrapper.close()>"
      ]
     },
     "execution_count": 9,
     "metadata": {},
     "output_type": "execute_result"
    }
   ],
   "source": [
    "#---Reading reviews data\n",
    "\n",
    "with open('/Users/tete/628data/review_train.json', 'r') as f:\n",
    "    review_train = f.readlines()\n",
    "    for i in range(len(review_train)):\n",
    "        review_train[i] = json.loads(review_train[i])\n",
    "f.close"
   ]
  },
  {
   "cell_type": "code",
   "execution_count": 10,
   "metadata": {},
   "outputs": [],
   "source": [
    "#---Picking restaurants' reviews\n",
    "\n",
    "df_bus_train = pd.DataFrame(bus_train)\n",
    "id = np.array(df_bus_train['business_id'])\n",
    "\n",
    "review_json = []\n",
    "for i in range(len(review_train)):\n",
    "    if review_train[i]['business_id'] in id:\n",
    "        review_json.append(json.dumps(review_train[i]))\n",
    "for i in range(len(review_json)):\n",
    "    open('/Users/tete/628data/review_pizza.json', 'a').write(review_json[i])\n",
    "    open('/Users/tete/628data/review_pizza.json', 'a').write('\\n')"
   ]
  },
  {
   "cell_type": "code",
   "execution_count": 11,
   "metadata": {},
   "outputs": [
    {
     "data": {
      "text/plain": [
       "<function TextIOWrapper.close()>"
      ]
     },
     "execution_count": 11,
     "metadata": {},
     "output_type": "execute_result"
    }
   ],
   "source": [
    "#---Re-reading restaurants' reviews to release the memory\n",
    "\n",
    "del review_train\n",
    "del review_json\n",
    "with open('/Users/tete/628data/review_pizza.json', 'r') as f:\n",
    "    review_train = f.readlines()\n",
    "    for i in range(len(review_train)):\n",
    "        review_train[i] = json.loads(review_train[i])\n",
    "f.close"
   ]
  },
  {
   "cell_type": "code",
   "execution_count": 12,
   "metadata": {},
   "outputs": [],
   "source": [
    "#---Calculating average ratings\n",
    "\n",
    "ratings = {}\n",
    "account = {}\n",
    "for x in review_train:\n",
    "    if x['business_id'] not in list(ratings):\n",
    "        ratings[x['business_id']] = x['stars']\n",
    "        account[x['business_id']] = 1\n",
    "    else:\n",
    "        ratings[x['business_id']] = ratings[x['business_id']] + x['stars']\n",
    "        account[x['business_id']] = account[x['business_id']] + 1\n",
    "\n",
    "ave_ratings = {}\n",
    "for key in list(ratings):\n",
    "    ave_ratings[key] = ratings[key]/account[key]"
   ]
  },
  {
   "cell_type": "code",
   "execution_count": 13,
   "metadata": {},
   "outputs": [],
   "source": [
    "#---Merging average ratings and business data\n",
    "\n",
    "sorted_ratings = []\n",
    "for i in range(df_bus_train.shape[0]):\n",
    "        sorted_ratings.append(ave_ratings[df_bus_train['business_id'][i]])\n",
    "\n",
    "df_bus_train['ratings'] = sorted_ratings\n",
    "df_bus_train.to_csv('/Users/tete/628data/bus_pizza.csv', sep = ',', header = True)"
   ]
  },
  {
   "cell_type": "code",
   "execution_count": 14,
   "metadata": {},
   "outputs": [],
   "source": [
    "#---Generating CSV of review data\n",
    "\n",
    "df_review_train = pd.DataFrame(review_train)\n",
    "df_review_train.to_csv('/Users/tete/628data/review_pizza.csv', sep = ',', header = True)"
   ]
  }
 ],
 "metadata": {
  "kernelspec": {
   "display_name": "Python 3",
   "language": "python",
   "name": "python3"
  },
  "language_info": {
   "codemirror_mode": {
    "name": "ipython",
    "version": 3
   },
   "file_extension": ".py",
   "mimetype": "text/x-python",
   "name": "python",
   "nbconvert_exporter": "python",
   "pygments_lexer": "ipython3",
   "version": "3.6.8"
  }
 },
 "nbformat": 4,
 "nbformat_minor": 2
}
