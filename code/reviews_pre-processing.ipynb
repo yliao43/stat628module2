{
 "cells": [
  {
   "cell_type": "code",
   "execution_count": null,
   "metadata": {},
   "outputs": [],
   "source": [
    "import pandas as pd\n",
    "import numpy as np\n",
    "import nltk\n",
    "from nltk.corpus import stopwords\n",
    "from nltk.stem import WordNetLemmatizer\n",
    "import re\n",
    "\n",
    "data = pd.read_csv(\"./review_pizza.csv\",index_col=0)\n",
    "#delete \"date\"\n",
    "data.pop('date')\n",
    "#sort by business_id.\n",
    "#data=data.sort_values(by='business_id')\n",
    "\n",
    "stars=pd.np.array(data['stars']).tolist()\n",
    "business_id=pd.np.array(data['business_id']).tolist()\n",
    "t=pd.np.array(data['text']).tolist()\n",
    "for i in range(data.shape[0]):\n",
    "    t[i]=t[i].lower()\n",
    "\n",
    "def check_word (word,source):\n",
    "    res=[]\n",
    "    for i in range(data.shape[0]):\n",
    "        res.append(word in source[i])\n",
    "    return sum(res)\n",
    "#Then check some words, omit here.\n",
    "\n",
    "for doc in range(data.shape[0]):\n",
    "    t[doc]=re.sub('5\\sstar[s]*','exellent',t[doc])\n",
    "    t[doc]=re.sub('five\\sstar[s]*','exellent',t[doc])\n",
    "    t[doc]=re.sub('4\\sstar[s]*','good',t[doc])\n",
    "    t[doc]=re.sub('four\\sstar[s]*','good',t[doc])\n",
    "    t[doc]=re.sub('3\\sstar[s]*','average',t[doc])\n",
    "    t[doc]=re.sub('three\\sstar[s]*','average',t[doc])\n",
    "    t[doc]=re.sub('[12]\\sstar[s]*','bad',t[doc])\n",
    "    t[doc]=re.sub('two\\sstar[s]*','bad',t[doc])\n",
    "    t[doc]=re.sub('one\\sstar','bad',t[doc])\n",
    "    t[doc]=re.sub('[:;]+[\"^-]*\\)+','pleased',t[doc])\n",
    "    t[doc]=re.sub('[:;]+[\"^-]*\\(+','frustrated',t[doc])\n",
    "    t[doc]=re.sub('n\\'t','not',t[doc])\n",
    "    t[doc]=re.sub('\\'d','',t[doc])\n",
    "    t[doc]=re.sub('\\'m','',t[doc])\n",
    "    t[doc]=re.sub('\\'re','',t[doc])\n",
    "    t[doc]=re.sub('\\'ve','',t[doc])\n",
    "    t[doc]=re.sub('\\'ll','',t[doc])\n",
    "    t[doc]=re.sub('\\'s','',t[doc])\n",
    "    t[doc]=re.sub('[^A-Za-z0-9\\s-]','',t[doc])\n",
    "    t[doc]=re.sub('-',' ',t[doc])\n",
    "    t[doc]=re.sub(r'\\d+ (?!min)','',t[doc])\n",
    "    t[doc]=re.sub('\\n','',t[doc])\n",
    "    t[doc]=re.sub('can+ot','not',t[doc])\n",
    "    t[doc]=re.sub('don+ot','not',t[doc])\n",
    "    \n",
    "def word_split (doc):\n",
    "    doc=re.split('\\s*',doc)\n",
    "    return doc\n",
    "word_matrix=[]\n",
    "for i in range(len(t)):\n",
    "    word_matrix.append(word_split(t[i]))\n",
    "#actualy it's a list of lists\n",
    "\n",
    "sw=stopwords.words("english")\n",
    "#print(sw)\n",
    "my_sw=['i', 'me', 'my', 'myself', 'we', 'our', 'ours', 'ourselves', 'you', 'your', 'yours',\\
       'yourself', 'yourselves', 'he', 'him', 'his', 'himself', 'she', 'her', 'hers',\\
       'herself', 'it', 'its', 'itself', 'they', 'them', 'their', 'theirs', 'themselves',\\
       'what', 'which', 'who', 'whom', 'this', 'that', 'these', 'those', 'us', 'seem',\\
       'must', 'also', 'am', 'is', 'are', 'was', 'were', 'be', 'been', 'being', 'have',\\
       'has', 'had', 'having', 'do', 'does', 'did', 'doing', 'a', 'an', 'the', 'and', 'but',\\
       'if', 'or', 'because', 'as', 'until', 'while', 'of', 'at', 'by', 'for', 'with',\\
       'about', 'against', 'between', 'into', 'through', 'during', 'before', 'after',\\
       'above', 'below', 'to', 'from', 'up', 'down', 'in', 'out', 'on', 'off', 'over',\\
       'under', 'again', 'further', 'then', 'once', 'here', 'there', 'when', 'where', 'why',\\
       'how', 'all', 'any', 'both', 'each', 'few', 'more', 'most', 'other', 'some', 'such',\\
       'only', 'own', 'same', 'so', 'than', 'too', 'very', 's', 't', 'can', 'will', 'just',\\
       'should', 'now', 'o', 'y']\n",
    "\n",
    "m=[]\n",
    "for i in range(len(word_matrix)):\n",
    "m.append([w for w in word_matrix[i] if not w in my_sw])\n",
    "\n",
    "norm_word=[]\n",
    "wordnet_lemmatizer = WordNetLemmatizer()\n",
    "for i in range(len(word_matrix)):\n",
    "norm_words.append([wordnet_lemmatizer.lemmatize(wordnet_lemmatizer.lemmatize(w,pos='v')) for w in m[i]])\n",
    "\n",
    "length=len(sorted(norm_words,key=len, reverse=True)[0])\n",
    "cleaned_words=np.array([xi+[None]*(length-len(xi)) for xi in norm_words])\n",
    "df=pd.concat([pd.Series(x) for x in cleaned_words], axis=1)\n",
    "corpus=df.transpose()\n",
    "corpus.insert(loc=0,column='stars',value=stars)\n",
    "corpus.insert(loc=0,column='business_id',value=business_id)\n",
    "corpus.to_csv('unsorted_corpus.csv',index=False)"
   ]
  }
 ],
 "metadata": {
  "kernelspec": {
   "display_name": "Python 3",
   "language": "python",
   "name": "python3"
  },
  "language_info": {
   "codemirror_mode": {
    "name": "ipython",
    "version": 3
   },
   "file_extension": ".py",
   "mimetype": "text/x-python",
   "name": "python",
   "nbconvert_exporter": "python",
   "pygments_lexer": "ipython3",
   "version": "3.6.5"
  }
 },
 "nbformat": 4,
 "nbformat_minor": 2
}
