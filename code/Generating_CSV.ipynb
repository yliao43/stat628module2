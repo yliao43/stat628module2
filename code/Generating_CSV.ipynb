{
 "cells": [
  {
   "cell_type": "code",
   "execution_count": null,
   "metadata": {},
   "outputs": [],
   "source": [
    "import json\n",
    "with open('/Users/tete/628data/review_train.json', 'r') as f:\n",
    "    review_train = f.readlines()\n",
    "    for i in range(len(review_train)):\n",
    "        review_train[i] = json.loads(review_train[i])\n",
    "f.close\n",
    "\n",
    "import pandas as pd\n",
    "df_review_train = pd.DataFrame(review_train)\n",
    "df_review_train.to_csv('/Users/tete/628data/review_train.csv', sep = ',', header = True)\n",
    "\n",
    "\n",
    "\n",
    "import json\n",
    "with open('/Users/tete/628data/review_test.json', 'r') as f:\n",
    "    review_test = f.readlines()\n",
    "    for i in range(len(review_test)):\n",
    "        review_test[i] = json.loads(review_test[i])\n",
    "f.close\n",
    "\n",
    "import pandas as pd\n",
    "df_review_test = pd.DataFrame(review_test)\n",
    "df_review_test.to_csv('/Users/tete/628data/review_test.csv', sep = ',', header = True)\n"
   ]
  }
 ],
 "metadata": {
  "kernelspec": {
   "display_name": "Python 3",
   "language": "python",
   "name": "python3"
  },
  "language_info": {
   "codemirror_mode": {
    "name": "ipython",
    "version": 3
   },
   "file_extension": ".py",
   "mimetype": "text/x-python",
   "name": "python",
   "nbconvert_exporter": "python",
   "pygments_lexer": "ipython3",
   "version": "3.6.8"
  }
 },
 "nbformat": 4,
 "nbformat_minor": 2
}
